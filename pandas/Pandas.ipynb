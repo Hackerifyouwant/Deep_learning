{
  "nbformat": 4,
  "nbformat_minor": 0,
  "metadata": {
    "colab": {
      "name": "Pandas.ipynb",
      "version": "0.3.2",
      "provenance": [],
      "collapsed_sections": [],
      "include_colab_link": true
    },
    "kernelspec": {
      "name": "python3",
      "display_name": "Python 3"
    },
    "accelerator": "GPU"
  },
  "cells": [
    {
      "cell_type": "markdown",
      "metadata": {
        "id": "view-in-github",
        "colab_type": "text"
      },
      "source": [
        "<a href=\"https://colab.research.google.com/github/Hackerifyouwant/Deep_learning/blob/master/pandas/Pandas.ipynb\" target=\"_parent\"><img src=\"https://colab.research.google.com/assets/colab-badge.svg\" alt=\"Open In Colab\"/></a>"
      ]
    },
    {
      "metadata": {
        "id": "i2hKqNS6kTtK",
        "colab_type": "text"
      },
      "cell_type": "markdown",
      "source": [
        "#Pandas\n",
        "##author Hackerifyouwant\n",
        "###2018/4/26"
      ]
    },
    {
      "metadata": {
        "id": "xVaonFfa7jgd",
        "colab_type": "code",
        "outputId": "7d06c9ea-a83f-450e-c655-313cb0a33cc4",
        "colab": {
          "base_uri": "https://localhost:8080/",
          "height": 382
        }
      },
      "cell_type": "code",
      "source": [
        "import pandas as pd\n",
        "import numpy as np\n",
        "\n",
        "def output(obj):\n",
        "  print(obj,obj.values,obj.index)\n",
        "\n",
        "\n",
        "sdata={'a':1000,'b':2000,'c':3000,'d':4000}\n",
        "obj=pd.Series(sdata)\n",
        "output(obj)\n",
        "\n",
        "obj2=pd.Series([4,7,5,6],index=['a','b','c','d'])\n",
        "output(obj2*2)\n",
        "\n",
        "np1=np.exp(obj2)\n",
        "print(np1)\n",
        "\n",
        "print('b' in obj2)\n",
        "\n",
        "sdata = {'Ohio': 35000, 'Texas': 71000, 'Oregon':16000, 'Utah': 5000}\n",
        "obj3=pd.Series(sdata)\n",
        "output(obj3)\n",
        "\n",
        "states=['California', 'Ohio', 'Oregon', 'Texas']\n",
        "obj4=pd.Series(sdata,index=states)\n",
        "output(obj4)\n",
        "\n",
        "pd.isnull(obj4)\n",
        "\n",
        "\n",
        "pd.notnull(obj4)\n",
        "\n",
        "obj4.isnull()"
      ],
      "execution_count": 6,
      "outputs": [
        {
          "output_type": "stream",
          "text": [
            "a    1000\n",
            "b    2000\n",
            "c    3000\n",
            "d    4000\n",
            "dtype: int64 [1000 2000 3000 4000] Index(['a', 'b', 'c', 'd'], dtype='object')\n",
            "a     8\n",
            "b    14\n",
            "c    10\n",
            "d    12\n",
            "dtype: int64 [ 8 14 10 12] Index(['a', 'b', 'c', 'd'], dtype='object')\n",
            "a      54.598150\n",
            "b    1096.633158\n",
            "c     148.413159\n",
            "d     403.428793\n",
            "dtype: float64\n",
            "True\n",
            "Ohio      35000\n",
            "Texas     71000\n",
            "Oregon    16000\n",
            "Utah       5000\n",
            "dtype: int64 [35000 71000 16000  5000] Index(['Ohio', 'Texas', 'Oregon', 'Utah'], dtype='object')\n"
          ],
          "name": "stdout"
        }
      ]
    },
    {
      "metadata": {
        "id": "p7RAhEA3mE6X",
        "colab_type": "text"
      },
      "cell_type": "markdown",
      "source": [
        "#Dataframe"
      ]
    },
    {
      "metadata": {
        "id": "vqYPd8ihmJfZ",
        "colab_type": "code",
        "colab": {}
      },
      "cell_type": "code",
      "source": [
        "import pandas as pd\n",
        "import numpy as np\n",
        "\n",
        "def output(obj):\n",
        "  print(obj,obj.values,obj.index)\n",
        "  \n",
        "data = {'state': ['Ohio', 'Ohio', 'Ohio', 'Nevada', 'Nevada', 'Nevada'], \n",
        "        'year': [2000, 2001, 2002, 2001, 2002, 2003], \n",
        "        'pop': [1.5, 1.7, 3.6, 2.4, 2.9, 3.2]}\n",
        "\n",
        "frame = pd.DataFrame(data)\n",
        "output(frame)\n",
        "\n",
        "frame2 = pd.DataFrame(data, columns=['year', 'state', 'pop', 'debt'], \n",
        "                      index=['one', 'two', 'three', 'four', 'five', 'six'])\n",
        "\n",
        "frame2.year\n",
        "output(frame2)\n",
        "frame2.loc['three']\n",
        "\n",
        "\n",
        "output(frame2)"
      ],
      "execution_count": 0,
      "outputs": []
    },
    {
      "metadata": {
        "id": "MjY__kqXrDE5",
        "colab_type": "text"
      },
      "cell_type": "markdown",
      "source": [
        "##上傳python檔案到colab"
      ]
    },
    {
      "metadata": {
        "id": "5RL6DuJDiqGZ",
        "colab_type": "code",
        "outputId": "27e521b8-c5da-4cb9-b7ed-25a745b9be3f",
        "colab": {
          "base_uri": "https://localhost:8080/",
          "height": 84
        }
      },
      "cell_type": "code",
      "source": [
        "!curl -O https://raw.githubusercontent.com/Hackerifyouwant/Ubuntu/master/decode/base64decode.py\n",
        "!ls\n"
      ],
      "execution_count": 0,
      "outputs": [
        {
          "output_type": "stream",
          "text": [
            "  % Total    % Received % Xferd  Average Speed   Time    Time     Time  Current\n",
            "                                 Dload  Upload   Total   Spent    Left  Speed\n",
            "\r  0     0    0     0    0     0      0      0 --:--:-- --:--:-- --:--:--     0\r100   114  100   114    0     0   2111      0 --:--:-- --:--:-- --:--:--  2111\n",
            "base64decode.py  sample_data\n"
          ],
          "name": "stdout"
        }
      ]
    }
  ]
}