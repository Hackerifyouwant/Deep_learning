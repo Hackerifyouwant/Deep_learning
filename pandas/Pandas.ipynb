{
  "nbformat": 4,
  "nbformat_minor": 0,
  "metadata": {
    "colab": {
      "name": "Pandas.ipynb",
      "version": "0.3.2",
      "provenance": [],
      "collapsed_sections": [],
      "include_colab_link": true
    },
    "kernelspec": {
      "name": "python3",
      "display_name": "Python 3"
    },
    "accelerator": "GPU"
  },
  "cells": [
    {
      "cell_type": "markdown",
      "metadata": {
        "id": "view-in-github",
        "colab_type": "text"
      },
      "source": [
        "<a href=\"https://colab.research.google.com/github/Hackerifyouwant/Deep_learning/blob/master/pandas/Pandas.ipynb\" target=\"_parent\"><img src=\"https://colab.research.google.com/assets/colab-badge.svg\" alt=\"Open In Colab\"/></a>"
      ]
    },
    {
      "metadata": {
        "id": "nbye-0gte99x",
        "colab_type": "text"
      },
      "cell_type": "markdown",
      "source": [
        "\n",
        "#Numpy\n",
        "##author Hackerifyouwant\n",
        "###2018/4/28\n",
        "\n"
      ]
    },
    {
      "metadata": {
        "id": "SufQHBIoe-n1",
        "colab_type": "code",
        "colab": {
          "base_uri": "https://localhost:8080/",
          "height": 967
        },
        "outputId": "5080314c-eaac-41ae-f8c6-f02feea909c9"
      },
      "cell_type": "code",
      "source": [
        "import numpy as np\n",
        "\n",
        "\n",
        "\n",
        "a = np.array([[0,1,2],[3,4,5],[6,7,8]], dtype=np.float32)\n",
        "print(\"Array with float32\")\n",
        "print(a)\n",
        "print()\n",
        "\n",
        "persontype=np.dtype({\n",
        "    'names': ['name', 'age', 'weight'], \n",
        "    'formats': [np.str_, np.int16, np.float32]\n",
        "})\n",
        "# customize the type of array\n",
        "b = np.array([(\"Zhang\", 32, 75.5), (\"Wang\", 24, 65.2)], dtype=persontype)\n",
        "print(\"Array with customized type\")\n",
        "print(b)\n",
        "print()\n",
        "\n",
        "x = np.array([[1,2.0],[0,0],(1+1j,3+1j)])\n",
        "print(\"Simple array\")\n",
        "print(x)\n",
        "print()\n",
        "\n",
        "c=np.zeros((2,3))\n",
        "print(\"Zero Matrix with 2 by 3\")\n",
        "print(c)\n",
        "print()\n",
        "\n",
        "d=np.arange(2, 3, 0.1)\n",
        "print(\"Array which value between 2 and 3 seperated 0.1\")\n",
        "# 所有數值介在2～3之間，間隔0.1\n",
        "print(d)\n",
        "print()\n",
        "\n",
        "e=np.linspace(1., 4., 6)\n",
        "print(\"Array which value between 1 and 4 divide into 5 part\")\n",
        "# 所有數值介在1到4之間，評分切成6個點\n",
        "print(e)\n",
        "\n",
        "f=np.indices((6, 3))\n",
        "print(\"Matrix with 6 by 3 and it Transposed matrix\")\n",
        "print(f)\n",
        "print()\n",
        "\n",
        "g=np.array([range(i, i + 3) for i in [2, 4, 6]])\n",
        "print(\"The Matrix start with array[0] and plus three time in one colume\")\n",
        "print(g)\n",
        "print()\n",
        "\n",
        "h=np.array([0, 1, 2])\n",
        "i=np.tile(h,3)\n",
        "\n",
        "print(\"Repeat the same array three time\")\n",
        "print(i)\n",
        "print()\n",
        "\n",
        "j=np.tile(np.array([[1,2],[6,7]]),2)\n",
        "print(\"Repeat the same array two time\")\n",
        "print(j)\n",
        "print()\n",
        "\n",
        "k=np.tile(np.array([[1,2],[6,7]]),(2,2))\n",
        "print(\"Repeat the same array four time\")\n",
        "print(k)\n",
        "print()\n",
        "\n",
        "ar=np.arange(5); \n",
        "l=ar[::-1]\n",
        "print(\"Rotate the array\")\n",
        "print(l)\n",
        "print()\n"
      ],
      "execution_count": 50,
      "outputs": [
        {
          "output_type": "stream",
          "text": [
            "Array with float32\n",
            "[[0. 1. 2.]\n",
            " [3. 4. 5.]\n",
            " [6. 7. 8.]]\n",
            "\n",
            "Array with customized type\n",
            "[('', 32, 75.5) ('', 24, 65.2)]\n",
            "\n",
            "Simple array\n",
            "[[1.+0.j 2.+0.j]\n",
            " [0.+0.j 0.+0.j]\n",
            " [1.+1.j 3.+1.j]]\n",
            "\n",
            "Zero Matrix with 2 by 3\n",
            "[[0. 0. 0.]\n",
            " [0. 0. 0.]]\n",
            "\n",
            "Array which value between 2 and 3 seperated 0.1\n",
            "[2.  2.1 2.2 2.3 2.4 2.5 2.6 2.7 2.8 2.9]\n",
            "\n",
            "Array which value between 1 and 4 divide into 5 part\n",
            "[1.  1.6 2.2 2.8 3.4 4. ]\n",
            "Matrix with 6 by 3 and it Transposed matrix\n",
            "[[[0 0 0]\n",
            "  [1 1 1]\n",
            "  [2 2 2]\n",
            "  [3 3 3]\n",
            "  [4 4 4]\n",
            "  [5 5 5]]\n",
            "\n",
            " [[0 1 2]\n",
            "  [0 1 2]\n",
            "  [0 1 2]\n",
            "  [0 1 2]\n",
            "  [0 1 2]\n",
            "  [0 1 2]]]\n",
            "\n",
            "The Matrix start with array[0] and plus three time in one colume\n",
            "[[2 3 4]\n",
            " [4 5 6]\n",
            " [6 7 8]]\n",
            "\n",
            "Repeat the same array three time\n",
            "[0 1 2 0 1 2 0 1 2]\n",
            "Repeat the same array two time\n",
            "[[1 2 1 2]\n",
            " [6 7 6 7]]\n",
            "Repeat the same array four time\n",
            "[[1 2 1 2]\n",
            " [6 7 6 7]\n",
            " [1 2 1 2]\n",
            " [6 7 6 7]]\n",
            "rotate the array\n",
            "[4 3 2 1 0]\n"
          ],
          "name": "stdout"
        }
      ]
    },
    {
      "metadata": {
        "id": "i2hKqNS6kTtK",
        "colab_type": "text"
      },
      "cell_type": "markdown",
      "source": [
        "#Pandas\n",
        "##author Hackerifyouwant\n",
        "###2018/4/26"
      ]
    },
    {
      "metadata": {
        "id": "xVaonFfa7jgd",
        "colab_type": "code",
        "outputId": "7d06c9ea-a83f-450e-c655-313cb0a33cc4",
        "colab": {
          "base_uri": "https://localhost:8080/",
          "height": 382
        }
      },
      "cell_type": "code",
      "source": [
        "import pandas as pd\n",
        "import numpy as np\n",
        "\n",
        "def output(obj):\n",
        "  print(obj,obj.values,obj.index)\n",
        "\n",
        "\n",
        "sdata={'a':1000,'b':2000,'c':3000,'d':4000}\n",
        "obj=pd.Series(sdata)\n",
        "output(obj)\n",
        "\n",
        "obj2=pd.Series([4,7,5,6],index=['a','b','c','d'])\n",
        "output(obj2*2)\n",
        "\n",
        "np1=np.exp(obj2)\n",
        "print(np1)\n",
        "\n",
        "print('b' in obj2)\n",
        "\n",
        "sdata = {'Ohio': 35000, 'Texas': 71000, 'Oregon':16000, 'Utah': 5000}\n",
        "obj3=pd.Series(sdata)\n",
        "output(obj3)\n",
        "\n",
        "states=['California', 'Ohio', 'Oregon', 'Texas']\n",
        "obj4=pd.Series(sdata,index=states)\n",
        "output(obj4)\n",
        "\n",
        "pd.isnull(obj4)\n",
        "\n",
        "\n",
        "pd.notnull(obj4)\n",
        "\n",
        "obj4.isnull()"
      ],
      "execution_count": 0,
      "outputs": [
        {
          "output_type": "stream",
          "text": [
            "a    1000\n",
            "b    2000\n",
            "c    3000\n",
            "d    4000\n",
            "dtype: int64 [1000 2000 3000 4000] Index(['a', 'b', 'c', 'd'], dtype='object')\n",
            "a     8\n",
            "b    14\n",
            "c    10\n",
            "d    12\n",
            "dtype: int64 [ 8 14 10 12] Index(['a', 'b', 'c', 'd'], dtype='object')\n",
            "a      54.598150\n",
            "b    1096.633158\n",
            "c     148.413159\n",
            "d     403.428793\n",
            "dtype: float64\n",
            "True\n",
            "Ohio      35000\n",
            "Texas     71000\n",
            "Oregon    16000\n",
            "Utah       5000\n",
            "dtype: int64 [35000 71000 16000  5000] Index(['Ohio', 'Texas', 'Oregon', 'Utah'], dtype='object')\n"
          ],
          "name": "stdout"
        }
      ]
    },
    {
      "metadata": {
        "id": "p7RAhEA3mE6X",
        "colab_type": "text"
      },
      "cell_type": "markdown",
      "source": [
        "#Dataframe\n",
        "##author Hackerifyouwant\n",
        "###2018/4/27"
      ]
    },
    {
      "metadata": {
        "id": "vqYPd8ihmJfZ",
        "colab_type": "code",
        "colab": {
          "base_uri": "https://localhost:8080/",
          "height": 650
        },
        "outputId": "cde6f7c6-00fa-47b3-8dfa-21911d2a337e"
      },
      "cell_type": "code",
      "source": [
        "import pandas as pd\n",
        "import numpy as np\n",
        "\n",
        "def output(obj):\n",
        "  print(obj,obj.values,obj.index)\n",
        "  \n",
        "data = {'state': ['Ohio', 'Ohio', 'Ohio', 'Nevada', 'Nevada', 'Nevada'], \n",
        "        'year': [2000, 2001, 2002, 2001, 2002, 2003], \n",
        "        'pop': [1.5, 1.7, 3.6, 2.4, 2.9, 3.2]}\n",
        "\n",
        "frame = pd.DataFrame(data)\n",
        "output(frame)\n",
        "\n",
        "frame2 = pd.DataFrame(data, columns=['year', 'state', 'pop', 'debt'], \n",
        "                      index=['one', 'two', 'three', 'four', 'five', 'six'])\n",
        "\n",
        "frame2.year\n",
        "output(frame2)\n",
        "frame2.loc['three']\n",
        "\n",
        "\n",
        "output(frame2)"
      ],
      "execution_count": 51,
      "outputs": [
        {
          "output_type": "stream",
          "text": [
            "    state  year  pop\n",
            "0    Ohio  2000  1.5\n",
            "1    Ohio  2001  1.7\n",
            "2    Ohio  2002  3.6\n",
            "3  Nevada  2001  2.4\n",
            "4  Nevada  2002  2.9\n",
            "5  Nevada  2003  3.2 [['Ohio' 2000 1.5]\n",
            " ['Ohio' 2001 1.7]\n",
            " ['Ohio' 2002 3.6]\n",
            " ['Nevada' 2001 2.4]\n",
            " ['Nevada' 2002 2.9]\n",
            " ['Nevada' 2003 3.2]] RangeIndex(start=0, stop=6, step=1)\n",
            "       year   state  pop debt\n",
            "one    2000    Ohio  1.5  NaN\n",
            "two    2001    Ohio  1.7  NaN\n",
            "three  2002    Ohio  3.6  NaN\n",
            "four   2001  Nevada  2.4  NaN\n",
            "five   2002  Nevada  2.9  NaN\n",
            "six    2003  Nevada  3.2  NaN [[2000 'Ohio' 1.5 nan]\n",
            " [2001 'Ohio' 1.7 nan]\n",
            " [2002 'Ohio' 3.6 nan]\n",
            " [2001 'Nevada' 2.4 nan]\n",
            " [2002 'Nevada' 2.9 nan]\n",
            " [2003 'Nevada' 3.2 nan]] Index(['one', 'two', 'three', 'four', 'five', 'six'], dtype='object')\n",
            "       year   state  pop debt\n",
            "one    2000    Ohio  1.5  NaN\n",
            "two    2001    Ohio  1.7  NaN\n",
            "three  2002    Ohio  3.6  NaN\n",
            "four   2001  Nevada  2.4  NaN\n",
            "five   2002  Nevada  2.9  NaN\n",
            "six    2003  Nevada  3.2  NaN [[2000 'Ohio' 1.5 nan]\n",
            " [2001 'Ohio' 1.7 nan]\n",
            " [2002 'Ohio' 3.6 nan]\n",
            " [2001 'Nevada' 2.4 nan]\n",
            " [2002 'Nevada' 2.9 nan]\n",
            " [2003 'Nevada' 3.2 nan]] Index(['one', 'two', 'three', 'four', 'five', 'six'], dtype='object')\n"
          ],
          "name": "stdout"
        }
      ]
    },
    {
      "metadata": {
        "id": "MjY__kqXrDE5",
        "colab_type": "text"
      },
      "cell_type": "markdown",
      "source": [
        "##上傳python檔案到colab"
      ]
    },
    {
      "metadata": {
        "id": "5RL6DuJDiqGZ",
        "colab_type": "code",
        "outputId": "c87bf060-ea7b-40d2-c12e-638912ae49ff",
        "colab": {
          "base_uri": "https://localhost:8080/",
          "height": 87
        }
      },
      "cell_type": "code",
      "source": [
        "!curl -O https://raw.githubusercontent.com/Hackerifyouwant/Ubuntu/master/decode/base64decode.py\n",
        "!ls\n"
      ],
      "execution_count": 52,
      "outputs": [
        {
          "output_type": "stream",
          "text": [
            "  % Total    % Received % Xferd  Average Speed   Time    Time     Time  Current\n",
            "                                 Dload  Upload   Total   Spent    Left  Speed\n",
            "\r  0     0    0     0    0     0      0      0 --:--:-- --:--:-- --:--:--     0\r100   114  100   114    0     0    497      0 --:--:-- --:--:-- --:--:--   497\n",
            "base64decode.py  sample_data\n"
          ],
          "name": "stdout"
        }
      ]
    }
  ]
}