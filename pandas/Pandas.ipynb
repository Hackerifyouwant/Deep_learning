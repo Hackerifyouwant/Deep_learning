{
  "nbformat": 4,
  "nbformat_minor": 0,
  "metadata": {
    "colab": {
      "name": "Pandas.ipynb",
      "version": "0.3.2",
      "provenance": [],
      "collapsed_sections": [],
      "include_colab_link": true
    },
    "kernelspec": {
      "name": "python3",
      "display_name": "Python 3"
    },
    "accelerator": "GPU"
  },
  "cells": [
    {
      "cell_type": "markdown",
      "metadata": {
        "id": "view-in-github",
        "colab_type": "text"
      },
      "source": [
        "<a href=\"https://colab.research.google.com/github/Hackerifyouwant/Deep_learning/blob/master/Pandas.ipynb\" target=\"_parent\"><img src=\"https://colab.research.google.com/assets/colab-badge.svg\" alt=\"Open In Colab\"/></a>"
      ]
    },
    {
      "metadata": {
        "id": "i2hKqNS6kTtK",
        "colab_type": "text"
      },
      "cell_type": "markdown",
      "source": [
        "#Pandas"
      ]
    },
    {
      "metadata": {
        "id": "V1k5wI12kYzj",
        "colab_type": "text"
      },
      "cell_type": "markdown",
      "source": [
        "#2019/4/26"
      ]
    },
    {
      "metadata": {
        "id": "-30BNYtGkdBB",
        "colab_type": "text"
      },
      "cell_type": "markdown",
      "source": [
        "###author 邱耀陞"
      ]
    },
    {
      "metadata": {
        "id": "xVaonFfa7jgd",
        "colab_type": "code",
        "colab": {
          "base_uri": "https://localhost:8080/",
          "height": 134
        },
        "outputId": "d0235a5f-aa28-4f54-accc-2906c230104b"
      },
      "cell_type": "code",
      "source": [
        "import pandas as pd\n",
        "import numpy as np\n",
        "\n",
        "sdata={'a':1000,'b':2000,'c':3000,'d':4000}\n",
        "obj=pd.Series(sdata)\n",
        "obj\n",
        "obj2=pd.Series([4,7,5,6],index=['a','b','c','d'])\n",
        "obj2\n",
        "obj+obj2\n"
      ],
      "execution_count": 36,
      "outputs": [
        {
          "output_type": "execute_result",
          "data": {
            "text/plain": [
              "a    1007.0\n",
              "b       NaN\n",
              "c    3005.0\n",
              "d    4004.0\n",
              "d    4006.0\n",
              "d    4009.0\n",
              "dtype: float64"
            ]
          },
          "metadata": {
            "tags": []
          },
          "execution_count": 36
        }
      ]
    },
    {
      "metadata": {
        "id": "5RL6DuJDiqGZ",
        "colab_type": "code",
        "colab": {}
      },
      "cell_type": "code",
      "source": [
        ""
      ],
      "execution_count": 0,
      "outputs": []
    }
  ]
}
