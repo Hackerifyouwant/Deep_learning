{
  "nbformat": 4,
  "nbformat_minor": 0,
  "metadata": {
    "colab": {
      "name": "Learning.ipynb",
      "version": "0.3.2",
      "provenance": [],
      "include_colab_link": true
    },
    "kernelspec": {
      "name": "python3",
      "display_name": "Python 3"
    }
  },
  "cells": [
    {
      "cell_type": "markdown",
      "metadata": {
        "id": "view-in-github",
        "colab_type": "text"
      },
      "source": [
        "<a href=\"https://colab.research.google.com/github/Hackerifyouwant/Deep_learning/blob/master/pandas/Learning.ipynb\" target=\"_parent\"><img src=\"https://colab.research.google.com/assets/colab-badge.svg\" alt=\"Open In Colab\"/></a>"
      ]
    },
    {
      "cell_type": "markdown",
      "metadata": {
        "id": "85uLEc-vsylk",
        "colab_type": "text"
      },
      "source": [
        "#Error_function\n",
        "##[Reference](https://github.com/MyDearGreatTeacher/AI4high/blob/master/PPT/Learning1_%E6%A9%9F%E5%99%A8%E7%9A%84%E5%AD%B8%E7%BF%92_Gradient%20Descent%20.pptx)\n",
        "##author Hackerifyouwant\n",
        "###2018/5/10"
      ]
    },
    {
      "cell_type": "code",
      "metadata": {
        "id": "lN8Zp5yrpeuy",
        "colab_type": "code",
        "colab": {}
      },
      "source": [
        "import numpy as np\n",
        "\n",
        "t=[0,0,1,0,0,0,0,0,0,0]\n",
        "y1=[0.1,0.1,0.6,0,0,0.05,0.05,0,0.05,0.05]\n",
        "y2=[0.1,0.1,0,0,0,0.05,0.05,0.6,0.05,0.05]\n",
        "\n"
      ],
      "execution_count": 0,
      "outputs": []
    },
    {
      "cell_type": "markdown",
      "metadata": {
        "id": "x3kATbRHstot",
        "colab_type": "text"
      },
      "source": [
        "##mean_squared_error"
      ]
    },
    {
      "cell_type": "code",
      "metadata": {
        "id": "mzvXiD-AshzN",
        "colab_type": "code",
        "colab": {}
      },
      "source": [
        "def mean_squared_error(y,t):\n",
        "  return 0.5*(np.sum((y-t)**2))"
      ],
      "execution_count": 0,
      "outputs": []
    },
    {
      "cell_type": "code",
      "metadata": {
        "id": "gOESZuOSsk7t",
        "colab_type": "code",
        "colab": {
          "base_uri": "https://localhost:8080/",
          "height": 50
        },
        "outputId": "8cabc806-c833-442b-8ac4-67ade122700b"
      },
      "source": [
        "print(mean_squared_error(np.array(y1),np.array(t)))\n",
        "\n",
        "print(mean_squared_error(np.array(y2),np.array(t)))"
      ],
      "execution_count": 10,
      "outputs": [
        {
          "output_type": "stream",
          "text": [
            "0.09500000000000003\n",
            "0.695\n"
          ],
          "name": "stdout"
        }
      ]
    },
    {
      "cell_type": "code",
      "metadata": {
        "id": "9aeoVvngsYmk",
        "colab_type": "code",
        "colab": {}
      },
      "source": [
        "def cross_entropy_error(y,t):\n",
        "  delta=1e-7\n",
        "  return -np.sum(t*np.log(y+delta))"
      ],
      "execution_count": 0,
      "outputs": []
    },
    {
      "cell_type": "code",
      "metadata": {
        "id": "KUXE-kW9rYnO",
        "colab_type": "code",
        "colab": {
          "base_uri": "https://localhost:8080/",
          "height": 50
        },
        "outputId": "e318c98a-8e6b-490e-c9e2-721d7b4912d2"
      },
      "source": [
        "print(cross_entropy_error(np.array(y1),np.array(t)))\n",
        "\n",
        "print(cross_entropy_error(np.array(y2),np.array(t)))"
      ],
      "execution_count": 11,
      "outputs": [
        {
          "output_type": "stream",
          "text": [
            "0.510825457099338\n",
            "16.11809565095832\n"
          ],
          "name": "stdout"
        }
      ]
    },
    {
      "cell_type": "code",
      "metadata": {
        "id": "OllcBp2MsCNc",
        "colab_type": "code",
        "colab": {}
      },
      "source": [
        ""
      ],
      "execution_count": 0,
      "outputs": []
    }
  ]
}