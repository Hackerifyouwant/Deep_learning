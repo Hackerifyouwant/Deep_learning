{
  "nbformat": 4,
  "nbformat_minor": 0,
  "metadata": {
    "colab": {
      "name": "Machine_learning_note.ipynb",
      "version": "0.3.2",
      "provenance": [],
      "include_colab_link": true
    },
    "kernelspec": {
      "name": "python3",
      "display_name": "Python 3"
    }
  },
  "cells": [
    {
      "cell_type": "markdown",
      "metadata": {
        "id": "view-in-github",
        "colab_type": "text"
      },
      "source": [
        "<a href=\"https://colab.research.google.com/github/Hackerifyouwant/Deep_learning/blob/master/Machine_learning_note.ipynb\" target=\"_parent\"><img src=\"https://colab.research.google.com/assets/colab-badge.svg\" alt=\"Open In Colab\"/></a>"
      ]
    },
    {
      "cell_type": "markdown",
      "metadata": {
        "id": "0p-idrPgTDOW",
        "colab_type": "text"
      },
      "source": [
        "#Python 深度學習\n",
        "##Author:Hackerifyouwant\n",
        "##[Reference](https://github.com/Packtpublishing/Python-Deep-Learning)\n",
        "###2019/6/10\n"
      ]
    },
    {
      "cell_type": "markdown",
      "metadata": {
        "id": "jR55irV2TN9O",
        "colab_type": "text"
      },
      "source": [
        "##Chapter 1:The Method of Machine Leraning"
      ]
    },
    {
      "cell_type": "markdown",
      "metadata": {
        "id": "cqMyKlCDTZN8",
        "colab_type": "text"
      },
      "source": [
        "##一：監督式學習(Supervised Learning)\n",
        "## 定義：從一組「已標記」的數據來學習如何對「未標誌」的類似數據做「分類」\n",
        "\n",
        "    舉個例子：以email為例，該演算法常被用來分類垃圾郵件及非垃圾郵件，\n",
        "演算法會對已標記的郵件加以分析，並對新的郵件進行預測，\n",
        "而通常第一次誤判的機率相當高，因此他會以預測的結果以及真實的結果來修正模型的參數。\n",
        "  \n",
        "當演算法針對標記數據已經無明顯成長時，就可以使用未標記資料來測試其準確性\n"
      ]
    },
    {
      "cell_type": "markdown",
      "metadata": {
        "id": "sO9U61P5VqB5",
        "colab_type": "text"
      },
      "source": [
        ""
      ]
    },
    {
      "cell_type": "code",
      "metadata": {
        "id": "cy9EvAVbS-4l",
        "colab_type": "code",
        "colab": {}
      },
      "source": [
        ""
      ],
      "execution_count": 0,
      "outputs": []
    }
  ]
}